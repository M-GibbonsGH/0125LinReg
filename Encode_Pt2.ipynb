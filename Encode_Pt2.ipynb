{
 "cells": [
  {
   "cell_type": "code",
   "execution_count": 1,
   "id": "3b4d9bca-8629-4d20-95d7-1116736104da",
   "metadata": {},
   "outputs": [
    {
     "name": "stdout",
     "output_type": "stream",
     "text": [
      "<class 'pandas.core.frame.DataFrame'>\n",
      "RangeIndex: 1460 entries, 0 to 1459\n",
      "Columns: 185 entries, Id to SaleCondition_Partial\n",
      "dtypes: bool(122), float64(3), int64(34), object(26)\n",
      "memory usage: 892.7+ KB\n"
     ]
    }
   ],
   "source": [
    "import pandas as pd\n",
    "df_oldversion = pd.read_csv(\"./train.csv\")\n",
    "df = pd.read_csv(\"./train_encodedv.csv\")\n",
    "df.info()"
   ]
  },
  {
   "cell_type": "code",
   "execution_count": 2,
   "id": "4f1ecf2a-8954-4578-a6bb-0cbf3ede3572",
   "metadata": {},
   "outputs": [
    {
     "name": "stdout",
     "output_type": "stream",
     "text": [
      "<class 'pandas.core.frame.DataFrame'>\n",
      "RangeIndex: 1460 entries, 0 to 1459\n",
      "Data columns (total 81 columns):\n",
      " #   Column         Non-Null Count  Dtype  \n",
      "---  ------         --------------  -----  \n",
      " 0   Id             1460 non-null   int64  \n",
      " 1   MSSubClass     1460 non-null   int64  \n",
      " 2   MSZoning       1460 non-null   object \n",
      " 3   LotFrontage    1201 non-null   float64\n",
      " 4   LotArea        1460 non-null   int64  \n",
      " 5   Street         1460 non-null   object \n",
      " 6   Alley          91 non-null     object \n",
      " 7   LotShape       1460 non-null   object \n",
      " 8   LandContour    1460 non-null   object \n",
      " 9   Utilities      1460 non-null   object \n",
      " 10  LotConfig      1460 non-null   object \n",
      " 11  LandSlope      1460 non-null   object \n",
      " 12  Neighborhood   1460 non-null   object \n",
      " 13  Condition1     1460 non-null   object \n",
      " 14  Condition2     1460 non-null   object \n",
      " 15  BldgType       1460 non-null   object \n",
      " 16  HouseStyle     1460 non-null   object \n",
      " 17  OverallQual    1460 non-null   int64  \n",
      " 18  OverallCond    1460 non-null   int64  \n",
      " 19  YearBuilt      1460 non-null   int64  \n",
      " 20  YearRemodAdd   1460 non-null   int64  \n",
      " 21  RoofStyle      1460 non-null   object \n",
      " 22  RoofMatl       1460 non-null   object \n",
      " 23  Exterior1st    1460 non-null   object \n",
      " 24  Exterior2nd    1460 non-null   object \n",
      " 25  MasVnrType     588 non-null    object \n",
      " 26  MasVnrArea     1452 non-null   float64\n",
      " 27  ExterQual      1460 non-null   object \n",
      " 28  ExterCond      1460 non-null   object \n",
      " 29  Foundation     1460 non-null   object \n",
      " 30  BsmtQual       1423 non-null   object \n",
      " 31  BsmtCond       1423 non-null   object \n",
      " 32  BsmtExposure   1422 non-null   object \n",
      " 33  BsmtFinType1   1423 non-null   object \n",
      " 34  BsmtFinSF1     1460 non-null   int64  \n",
      " 35  BsmtFinType2   1422 non-null   object \n",
      " 36  BsmtFinSF2     1460 non-null   int64  \n",
      " 37  BsmtUnfSF      1460 non-null   int64  \n",
      " 38  TotalBsmtSF    1460 non-null   int64  \n",
      " 39  Heating        1460 non-null   object \n",
      " 40  HeatingQC      1460 non-null   object \n",
      " 41  CentralAir     1460 non-null   object \n",
      " 42  Electrical     1459 non-null   object \n",
      " 43  1stFlrSF       1460 non-null   int64  \n",
      " 44  2ndFlrSF       1460 non-null   int64  \n",
      " 45  LowQualFinSF   1460 non-null   int64  \n",
      " 46  GrLivArea      1460 non-null   int64  \n",
      " 47  BsmtFullBath   1460 non-null   int64  \n",
      " 48  BsmtHalfBath   1460 non-null   int64  \n",
      " 49  FullBath       1460 non-null   int64  \n",
      " 50  HalfBath       1460 non-null   int64  \n",
      " 51  BedroomAbvGr   1460 non-null   int64  \n",
      " 52  KitchenAbvGr   1460 non-null   int64  \n",
      " 53  KitchenQual    1460 non-null   object \n",
      " 54  TotRmsAbvGrd   1460 non-null   int64  \n",
      " 55  Functional     1460 non-null   object \n",
      " 56  Fireplaces     1460 non-null   int64  \n",
      " 57  FireplaceQu    770 non-null    object \n",
      " 58  GarageType     1379 non-null   object \n",
      " 59  GarageYrBlt    1379 non-null   float64\n",
      " 60  GarageFinish   1379 non-null   object \n",
      " 61  GarageCars     1460 non-null   int64  \n",
      " 62  GarageArea     1460 non-null   int64  \n",
      " 63  GarageQual     1379 non-null   object \n",
      " 64  GarageCond     1379 non-null   object \n",
      " 65  PavedDrive     1460 non-null   object \n",
      " 66  WoodDeckSF     1460 non-null   int64  \n",
      " 67  OpenPorchSF    1460 non-null   int64  \n",
      " 68  EnclosedPorch  1460 non-null   int64  \n",
      " 69  3SsnPorch      1460 non-null   int64  \n",
      " 70  ScreenPorch    1460 non-null   int64  \n",
      " 71  PoolArea       1460 non-null   int64  \n",
      " 72  PoolQC         7 non-null      object \n",
      " 73  Fence          281 non-null    object \n",
      " 74  MiscFeature    54 non-null     object \n",
      " 75  MiscVal        1460 non-null   int64  \n",
      " 76  MoSold         1460 non-null   int64  \n",
      " 77  YrSold         1460 non-null   int64  \n",
      " 78  SaleType       1460 non-null   object \n",
      " 79  SaleCondition  1460 non-null   object \n",
      " 80  SalePrice      1460 non-null   int64  \n",
      "dtypes: float64(3), int64(35), object(43)\n",
      "memory usage: 924.0+ KB\n"
     ]
    }
   ],
   "source": [
    "df_oldversion.info()"
   ]
  },
  {
   "cell_type": "code",
   "execution_count": 3,
   "id": "21f2e74d-afd3-4dd8-88ec-105399c5ce00",
   "metadata": {},
   "outputs": [
    {
     "data": {
      "text/plain": [
       "(1460, 185)"
      ]
     },
     "execution_count": 3,
     "metadata": {},
     "output_type": "execute_result"
    }
   ],
   "source": [
    "df.shape"
   ]
  },
  {
   "cell_type": "code",
   "execution_count": null,
   "id": "64b3f425-9d2a-43a7-993c-f2916a764594",
   "metadata": {},
   "outputs": [],
   "source": []
  },
  {
   "cell_type": "code",
   "execution_count": 4,
   "id": "093016f7-2a9d-4f27-98af-be0c20ce1a1a",
   "metadata": {},
   "outputs": [
    {
     "data": {
      "text/plain": [
       "Index(['Alley_Grvl', 'Alley_Pave'], dtype='object')"
      ]
     },
     "execution_count": 4,
     "metadata": {},
     "output_type": "execute_result"
    }
   ],
   "source": [
    "df.columns[df.columns.str.startswith(\"Alley\")]"
   ]
  },
  {
   "cell_type": "code",
   "execution_count": 5,
   "id": "ae9fc872-8c0e-4589-a307-d5fbe053f363",
   "metadata": {},
   "outputs": [
    {
     "data": {
      "text/html": [
       "<div>\n",
       "<style scoped>\n",
       "    .dataframe tbody tr th:only-of-type {\n",
       "        vertical-align: middle;\n",
       "    }\n",
       "\n",
       "    .dataframe tbody tr th {\n",
       "        vertical-align: top;\n",
       "    }\n",
       "\n",
       "    .dataframe thead th {\n",
       "        text-align: right;\n",
       "    }\n",
       "</style>\n",
       "<table border=\"1\" class=\"dataframe\">\n",
       "  <thead>\n",
       "    <tr style=\"text-align: right;\">\n",
       "      <th></th>\n",
       "      <th>Id</th>\n",
       "      <th>MSSubClass</th>\n",
       "      <th>MSZoning</th>\n",
       "      <th>LotFrontage</th>\n",
       "      <th>LotArea</th>\n",
       "      <th>Street</th>\n",
       "      <th>Alley</th>\n",
       "      <th>LotShape</th>\n",
       "      <th>LandContour</th>\n",
       "      <th>Utilities</th>\n",
       "      <th>...</th>\n",
       "      <th>PoolArea</th>\n",
       "      <th>PoolQC</th>\n",
       "      <th>Fence</th>\n",
       "      <th>MiscFeature</th>\n",
       "      <th>MiscVal</th>\n",
       "      <th>MoSold</th>\n",
       "      <th>YrSold</th>\n",
       "      <th>SaleType</th>\n",
       "      <th>SaleCondition</th>\n",
       "      <th>SalePrice</th>\n",
       "    </tr>\n",
       "  </thead>\n",
       "  <tbody>\n",
       "    <tr>\n",
       "      <th>21</th>\n",
       "      <td>22</td>\n",
       "      <td>45</td>\n",
       "      <td>RM</td>\n",
       "      <td>57.0</td>\n",
       "      <td>7449</td>\n",
       "      <td>Pave</td>\n",
       "      <td>Grvl</td>\n",
       "      <td>Reg</td>\n",
       "      <td>Bnk</td>\n",
       "      <td>AllPub</td>\n",
       "      <td>...</td>\n",
       "      <td>0</td>\n",
       "      <td>NaN</td>\n",
       "      <td>GdPrv</td>\n",
       "      <td>NaN</td>\n",
       "      <td>0</td>\n",
       "      <td>6</td>\n",
       "      <td>2007</td>\n",
       "      <td>WD</td>\n",
       "      <td>Normal</td>\n",
       "      <td>139400</td>\n",
       "    </tr>\n",
       "    <tr>\n",
       "      <th>30</th>\n",
       "      <td>31</td>\n",
       "      <td>70</td>\n",
       "      <td>C (all)</td>\n",
       "      <td>50.0</td>\n",
       "      <td>8500</td>\n",
       "      <td>Pave</td>\n",
       "      <td>Pave</td>\n",
       "      <td>Reg</td>\n",
       "      <td>Lvl</td>\n",
       "      <td>AllPub</td>\n",
       "      <td>...</td>\n",
       "      <td>0</td>\n",
       "      <td>NaN</td>\n",
       "      <td>MnPrv</td>\n",
       "      <td>NaN</td>\n",
       "      <td>0</td>\n",
       "      <td>7</td>\n",
       "      <td>2008</td>\n",
       "      <td>WD</td>\n",
       "      <td>Normal</td>\n",
       "      <td>40000</td>\n",
       "    </tr>\n",
       "    <tr>\n",
       "      <th>56</th>\n",
       "      <td>57</td>\n",
       "      <td>160</td>\n",
       "      <td>FV</td>\n",
       "      <td>24.0</td>\n",
       "      <td>2645</td>\n",
       "      <td>Pave</td>\n",
       "      <td>Pave</td>\n",
       "      <td>Reg</td>\n",
       "      <td>Lvl</td>\n",
       "      <td>AllPub</td>\n",
       "      <td>...</td>\n",
       "      <td>0</td>\n",
       "      <td>NaN</td>\n",
       "      <td>NaN</td>\n",
       "      <td>NaN</td>\n",
       "      <td>0</td>\n",
       "      <td>8</td>\n",
       "      <td>2009</td>\n",
       "      <td>WD</td>\n",
       "      <td>Abnorml</td>\n",
       "      <td>172500</td>\n",
       "    </tr>\n",
       "    <tr>\n",
       "      <th>79</th>\n",
       "      <td>80</td>\n",
       "      <td>50</td>\n",
       "      <td>RM</td>\n",
       "      <td>60.0</td>\n",
       "      <td>10440</td>\n",
       "      <td>Pave</td>\n",
       "      <td>Grvl</td>\n",
       "      <td>Reg</td>\n",
       "      <td>Lvl</td>\n",
       "      <td>AllPub</td>\n",
       "      <td>...</td>\n",
       "      <td>0</td>\n",
       "      <td>NaN</td>\n",
       "      <td>MnPrv</td>\n",
       "      <td>NaN</td>\n",
       "      <td>0</td>\n",
       "      <td>5</td>\n",
       "      <td>2009</td>\n",
       "      <td>WD</td>\n",
       "      <td>Normal</td>\n",
       "      <td>110000</td>\n",
       "    </tr>\n",
       "    <tr>\n",
       "      <th>87</th>\n",
       "      <td>88</td>\n",
       "      <td>160</td>\n",
       "      <td>FV</td>\n",
       "      <td>40.0</td>\n",
       "      <td>3951</td>\n",
       "      <td>Pave</td>\n",
       "      <td>Pave</td>\n",
       "      <td>Reg</td>\n",
       "      <td>Lvl</td>\n",
       "      <td>AllPub</td>\n",
       "      <td>...</td>\n",
       "      <td>0</td>\n",
       "      <td>NaN</td>\n",
       "      <td>NaN</td>\n",
       "      <td>NaN</td>\n",
       "      <td>0</td>\n",
       "      <td>6</td>\n",
       "      <td>2009</td>\n",
       "      <td>New</td>\n",
       "      <td>Partial</td>\n",
       "      <td>164500</td>\n",
       "    </tr>\n",
       "    <tr>\n",
       "      <th>...</th>\n",
       "      <td>...</td>\n",
       "      <td>...</td>\n",
       "      <td>...</td>\n",
       "      <td>...</td>\n",
       "      <td>...</td>\n",
       "      <td>...</td>\n",
       "      <td>...</td>\n",
       "      <td>...</td>\n",
       "      <td>...</td>\n",
       "      <td>...</td>\n",
       "      <td>...</td>\n",
       "      <td>...</td>\n",
       "      <td>...</td>\n",
       "      <td>...</td>\n",
       "      <td>...</td>\n",
       "      <td>...</td>\n",
       "      <td>...</td>\n",
       "      <td>...</td>\n",
       "      <td>...</td>\n",
       "      <td>...</td>\n",
       "      <td>...</td>\n",
       "    </tr>\n",
       "    <tr>\n",
       "      <th>1404</th>\n",
       "      <td>1405</td>\n",
       "      <td>50</td>\n",
       "      <td>RL</td>\n",
       "      <td>60.0</td>\n",
       "      <td>10410</td>\n",
       "      <td>Pave</td>\n",
       "      <td>Grvl</td>\n",
       "      <td>Reg</td>\n",
       "      <td>Lvl</td>\n",
       "      <td>AllPub</td>\n",
       "      <td>...</td>\n",
       "      <td>0</td>\n",
       "      <td>NaN</td>\n",
       "      <td>MnPrv</td>\n",
       "      <td>NaN</td>\n",
       "      <td>0</td>\n",
       "      <td>1</td>\n",
       "      <td>2006</td>\n",
       "      <td>WD</td>\n",
       "      <td>Family</td>\n",
       "      <td>105000</td>\n",
       "    </tr>\n",
       "    <tr>\n",
       "      <th>1414</th>\n",
       "      <td>1415</td>\n",
       "      <td>50</td>\n",
       "      <td>RL</td>\n",
       "      <td>64.0</td>\n",
       "      <td>13053</td>\n",
       "      <td>Pave</td>\n",
       "      <td>Pave</td>\n",
       "      <td>Reg</td>\n",
       "      <td>Bnk</td>\n",
       "      <td>AllPub</td>\n",
       "      <td>...</td>\n",
       "      <td>0</td>\n",
       "      <td>NaN</td>\n",
       "      <td>NaN</td>\n",
       "      <td>NaN</td>\n",
       "      <td>0</td>\n",
       "      <td>6</td>\n",
       "      <td>2008</td>\n",
       "      <td>WD</td>\n",
       "      <td>Normal</td>\n",
       "      <td>207000</td>\n",
       "    </tr>\n",
       "    <tr>\n",
       "      <th>1427</th>\n",
       "      <td>1428</td>\n",
       "      <td>50</td>\n",
       "      <td>RL</td>\n",
       "      <td>60.0</td>\n",
       "      <td>10930</td>\n",
       "      <td>Pave</td>\n",
       "      <td>Grvl</td>\n",
       "      <td>Reg</td>\n",
       "      <td>Bnk</td>\n",
       "      <td>AllPub</td>\n",
       "      <td>...</td>\n",
       "      <td>0</td>\n",
       "      <td>NaN</td>\n",
       "      <td>NaN</td>\n",
       "      <td>NaN</td>\n",
       "      <td>0</td>\n",
       "      <td>4</td>\n",
       "      <td>2008</td>\n",
       "      <td>WD</td>\n",
       "      <td>Normal</td>\n",
       "      <td>140000</td>\n",
       "    </tr>\n",
       "    <tr>\n",
       "      <th>1432</th>\n",
       "      <td>1433</td>\n",
       "      <td>30</td>\n",
       "      <td>RL</td>\n",
       "      <td>60.0</td>\n",
       "      <td>10800</td>\n",
       "      <td>Pave</td>\n",
       "      <td>Grvl</td>\n",
       "      <td>Reg</td>\n",
       "      <td>Lvl</td>\n",
       "      <td>AllPub</td>\n",
       "      <td>...</td>\n",
       "      <td>0</td>\n",
       "      <td>NaN</td>\n",
       "      <td>NaN</td>\n",
       "      <td>NaN</td>\n",
       "      <td>0</td>\n",
       "      <td>8</td>\n",
       "      <td>2007</td>\n",
       "      <td>WD</td>\n",
       "      <td>Normal</td>\n",
       "      <td>64500</td>\n",
       "    </tr>\n",
       "    <tr>\n",
       "      <th>1454</th>\n",
       "      <td>1455</td>\n",
       "      <td>20</td>\n",
       "      <td>FV</td>\n",
       "      <td>62.0</td>\n",
       "      <td>7500</td>\n",
       "      <td>Pave</td>\n",
       "      <td>Pave</td>\n",
       "      <td>Reg</td>\n",
       "      <td>Lvl</td>\n",
       "      <td>AllPub</td>\n",
       "      <td>...</td>\n",
       "      <td>0</td>\n",
       "      <td>NaN</td>\n",
       "      <td>NaN</td>\n",
       "      <td>NaN</td>\n",
       "      <td>0</td>\n",
       "      <td>10</td>\n",
       "      <td>2009</td>\n",
       "      <td>WD</td>\n",
       "      <td>Normal</td>\n",
       "      <td>185000</td>\n",
       "    </tr>\n",
       "  </tbody>\n",
       "</table>\n",
       "<p>91 rows × 81 columns</p>\n",
       "</div>"
      ],
      "text/plain": [
       "        Id  MSSubClass MSZoning  LotFrontage  LotArea Street Alley LotShape  \\\n",
       "21      22          45       RM         57.0     7449   Pave  Grvl      Reg   \n",
       "30      31          70  C (all)         50.0     8500   Pave  Pave      Reg   \n",
       "56      57         160       FV         24.0     2645   Pave  Pave      Reg   \n",
       "79      80          50       RM         60.0    10440   Pave  Grvl      Reg   \n",
       "87      88         160       FV         40.0     3951   Pave  Pave      Reg   \n",
       "...    ...         ...      ...          ...      ...    ...   ...      ...   \n",
       "1404  1405          50       RL         60.0    10410   Pave  Grvl      Reg   \n",
       "1414  1415          50       RL         64.0    13053   Pave  Pave      Reg   \n",
       "1427  1428          50       RL         60.0    10930   Pave  Grvl      Reg   \n",
       "1432  1433          30       RL         60.0    10800   Pave  Grvl      Reg   \n",
       "1454  1455          20       FV         62.0     7500   Pave  Pave      Reg   \n",
       "\n",
       "     LandContour Utilities  ... PoolArea PoolQC  Fence MiscFeature MiscVal  \\\n",
       "21           Bnk    AllPub  ...        0    NaN  GdPrv         NaN       0   \n",
       "30           Lvl    AllPub  ...        0    NaN  MnPrv         NaN       0   \n",
       "56           Lvl    AllPub  ...        0    NaN    NaN         NaN       0   \n",
       "79           Lvl    AllPub  ...        0    NaN  MnPrv         NaN       0   \n",
       "87           Lvl    AllPub  ...        0    NaN    NaN         NaN       0   \n",
       "...          ...       ...  ...      ...    ...    ...         ...     ...   \n",
       "1404         Lvl    AllPub  ...        0    NaN  MnPrv         NaN       0   \n",
       "1414         Bnk    AllPub  ...        0    NaN    NaN         NaN       0   \n",
       "1427         Bnk    AllPub  ...        0    NaN    NaN         NaN       0   \n",
       "1432         Lvl    AllPub  ...        0    NaN    NaN         NaN       0   \n",
       "1454         Lvl    AllPub  ...        0    NaN    NaN         NaN       0   \n",
       "\n",
       "     MoSold YrSold  SaleType  SaleCondition  SalePrice  \n",
       "21        6   2007        WD         Normal     139400  \n",
       "30        7   2008        WD         Normal      40000  \n",
       "56        8   2009        WD        Abnorml     172500  \n",
       "79        5   2009        WD         Normal     110000  \n",
       "87        6   2009       New        Partial     164500  \n",
       "...     ...    ...       ...            ...        ...  \n",
       "1404      1   2006        WD         Family     105000  \n",
       "1414      6   2008        WD         Normal     207000  \n",
       "1427      4   2008        WD         Normal     140000  \n",
       "1432      8   2007        WD         Normal      64500  \n",
       "1454     10   2009        WD         Normal     185000  \n",
       "\n",
       "[91 rows x 81 columns]"
      ]
     },
     "execution_count": 5,
     "metadata": {},
     "output_type": "execute_result"
    }
   ],
   "source": [
    "df_oldversion[df_oldversion[\"Alley\"].notna()]"
   ]
  },
  {
   "cell_type": "code",
   "execution_count": 6,
   "id": "0cb06f39-4940-427c-9c42-11e4a6c262e9",
   "metadata": {},
   "outputs": [
    {
     "data": {
      "text/plain": [
       "(1460, 185)"
      ]
     },
     "execution_count": 6,
     "metadata": {},
     "output_type": "execute_result"
    }
   ],
   "source": [
    "df.shape"
   ]
  },
  {
   "cell_type": "code",
   "execution_count": 7,
   "id": "473cd0f7-70c4-41d4-a4c4-ebd438e3133d",
   "metadata": {},
   "outputs": [],
   "source": [
    "# I erroneously one-hot encoded Alley column. Most rows NaN. It needs indic var, interaction term instead\n",
    "# To correct it I will delete the on-hot encoded columns, then add original column back on\n",
    "df.drop([\"Alley_Grvl\", \"Alley_Pave\"], axis=1, inplace=True)\n",
    "df[\"Alley\"] = df_oldversion[\"Alley\"]"
   ]
  },
  {
   "cell_type": "code",
   "execution_count": 8,
   "id": "d92e36e8-aa27-496d-a3f2-ecafc3ee8dd1",
   "metadata": {},
   "outputs": [
    {
     "data": {
      "text/plain": [
       "(Alley\n",
       " Grvl    50\n",
       " Pave    41\n",
       " Name: count, dtype: int64,\n",
       " '',\n",
       " Alley\n",
       " Grvl    50\n",
       " Pave    41\n",
       " Name: count, dtype: int64)"
      ]
     },
     "execution_count": 8,
     "metadata": {},
     "output_type": "execute_result"
    }
   ],
   "source": [
    "df_oldversion[\"Alley\"].value_counts(), \"\" , df[\"Alley\"].value_counts()"
   ]
  },
  {
   "cell_type": "code",
   "execution_count": 9,
   "id": "b27e428d-7aed-46a6-8c8f-788024a86624",
   "metadata": {},
   "outputs": [
    {
     "data": {
      "text/plain": [
       "(1460, 184)"
      ]
     },
     "execution_count": 9,
     "metadata": {},
     "output_type": "execute_result"
    }
   ],
   "source": [
    "df.shape"
   ]
  },
  {
   "cell_type": "markdown",
   "id": "b16789a2-7d17-4b53-9177-ce7e2b69933c",
   "metadata": {},
   "source": [
    " # &#8659; Re-encoded LotShape: one-hot  &#8659;"
   ]
  },
  {
   "cell_type": "code",
   "execution_count": 10,
   "id": "18f2bfc8-8684-406a-8fba-c74000af27fd",
   "metadata": {},
   "outputs": [
    {
     "data": {
      "text/plain": [
       "False"
      ]
     },
     "execution_count": 10,
     "metadata": {},
     "output_type": "execute_result"
    }
   ],
   "source": [
    "df = pd.get_dummies(df, columns=[\"LotShape\"])\n",
    "\"LotShape\" in df.columns"
   ]
  },
  {
   "cell_type": "code",
   "execution_count": 11,
   "id": "89095a0a-f998-425b-a301-78b84be9255b",
   "metadata": {},
   "outputs": [
    {
     "data": {
      "text/plain": [
       "Index(['LotShape_IR1', 'LotShape_IR2', 'LotShape_IR3', 'LotShape_Reg'], dtype='object')"
      ]
     },
     "execution_count": 11,
     "metadata": {},
     "output_type": "execute_result"
    }
   ],
   "source": [
    "df.columns[df.columns.str.startswith(\"LotShape\")]"
   ]
  },
  {
   "cell_type": "markdown",
   "id": "72eb061a-83c8-47b8-8d3b-c4bb94659560",
   "metadata": {},
   "source": [
    "# &#8659; Happy that LandContour is encoded right &#8659;\n",
    " ## (Could also check correlation / r-squared with target variable to see which encoding method would be best)"
   ]
  },
  {
   "cell_type": "code",
   "execution_count": 12,
   "id": "dba4b110-ddd6-448f-bd3b-45ac59ea158e",
   "metadata": {},
   "outputs": [
    {
     "data": {
      "text/plain": [
       "(Index(['LandContour_Bnk', 'LandContour_HLS', 'LandContour_Low',\n",
       "        'LandContour_Lvl'],\n",
       "       dtype='object'),\n",
       " '',\n",
       " LandContour\n",
       " Lvl    1311\n",
       " Bnk      63\n",
       " HLS      50\n",
       " Low      36\n",
       " Name: count, dtype: int64)"
      ]
     },
     "execution_count": 12,
     "metadata": {},
     "output_type": "execute_result"
    }
   ],
   "source": [
    "df.columns[df.columns.str.startswith(\"LandContour\")], \"\", df_oldversion[\"LandContour\"].value_counts()"
   ]
  },
  {
   "cell_type": "code",
   "execution_count": 13,
   "id": "cb887d89-c4d8-454f-bce0-2ef8d53e1d5f",
   "metadata": {},
   "outputs": [
    {
     "name": "stdout",
     "output_type": "stream",
     "text": [
      "With LandContour one-hot encoded, Lvl should be True in 1311 columns. In reality it is true in 1311 columns. \n",
      "\n",
      "Meanwhile, HLS should be True in 50 columns. In reality it is true in 50 columns.\n"
     ]
    }
   ],
   "source": [
    "statement = f\"\"\"With LandContour one-hot encoded, Lvl should be True in 1311 columns. In reality it is true in {len(df.loc[df[\"LandContour_Lvl\"] == True])} columns. \n",
    "\n",
    "Meanwhile, HLS should be True in 50 columns. In reality it is true in {len(df.loc[df[\"LandContour_HLS\"] == True])} columns.\"\"\"\n",
    "\n",
    "print(statement)\n"
   ]
  },
  {
   "cell_type": "markdown",
   "id": "75de8593-725c-4b05-a9da-7b9d0fcadb2a",
   "metadata": {},
   "source": [
    "# &#8659; One-hot Utilities &#8659;\n",
    "## Would be great to delete this feature since all datapoints but one belong to single category. But we don't know how it is in test set"
   ]
  },
  {
   "cell_type": "code",
   "execution_count": 14,
   "id": "1f5a3b0a-04af-45fe-b3cf-995c15b55cd4",
   "metadata": {},
   "outputs": [
    {
     "data": {
      "text/plain": [
       "Utilities\n",
       "AllPub    1459\n",
       "NoSeWa       1\n",
       "Name: count, dtype: int64"
      ]
     },
     "execution_count": 14,
     "metadata": {},
     "output_type": "execute_result"
    }
   ],
   "source": [
    "df[\"Utilities\"].value_counts()"
   ]
  },
  {
   "cell_type": "code",
   "execution_count": 15,
   "id": "5a6f41cd-3ca7-4b6c-bb75-22e71114f168",
   "metadata": {},
   "outputs": [],
   "source": [
    "Utilities_order = {\"ELO\": 0, \"NoSeWa\": 1, \"NoSewr\": 2, \"Allpub\": 3}"
   ]
  },
  {
   "cell_type": "code",
   "execution_count": 16,
   "id": "f5e96b88-0d29-4c8b-b563-a4679f6efa22",
   "metadata": {},
   "outputs": [
    {
     "data": {
      "text/plain": [
       "0      NaN\n",
       "1      NaN\n",
       "2      NaN\n",
       "3      NaN\n",
       "4      NaN\n",
       "        ..\n",
       "1455   NaN\n",
       "1456   NaN\n",
       "1457   NaN\n",
       "1458   NaN\n",
       "1459   NaN\n",
       "Name: Utilities_le, Length: 1460, dtype: float64"
      ]
     },
     "execution_count": 16,
     "metadata": {},
     "output_type": "execute_result"
    }
   ],
   "source": [
    "df[\"Utilities_le\"] = df[\"Utilities\"].map(Utilities_order)\n",
    "df[\"Utilities_le\"]"
   ]
  },
  {
   "cell_type": "markdown",
   "id": "24d51ca4-da78-4fee-be57-bd502aa939d3",
   "metadata": {},
   "source": [
    "# &#8659; Happy with encoding of LotConfig &#8659;"
   ]
  },
  {
   "cell_type": "code",
   "execution_count": 17,
   "id": "854969b6-9e61-4fc5-9218-dd168a28ce8a",
   "metadata": {},
   "outputs": [
    {
     "data": {
      "text/plain": [
       "LotConfig\n",
       "Inside     1052\n",
       "Corner      263\n",
       "CulDSac      94\n",
       "FR2          47\n",
       "FR3           4\n",
       "Name: count, dtype: int64"
      ]
     },
     "execution_count": 17,
     "metadata": {},
     "output_type": "execute_result"
    }
   ],
   "source": [
    "df_oldversion[\"LotConfig\"].value_counts()"
   ]
  },
  {
   "cell_type": "code",
   "execution_count": 18,
   "id": "c9baaca3-0adf-4653-bb2f-09833d796e9c",
   "metadata": {},
   "outputs": [
    {
     "data": {
      "text/plain": [
       "Index(['LotConfig_Corner', 'LotConfig_CulDSac', 'LotConfig_FR2',\n",
       "       'LotConfig_FR3', 'LotConfig_Inside'],\n",
       "      dtype='object')"
      ]
     },
     "execution_count": 18,
     "metadata": {},
     "output_type": "execute_result"
    }
   ],
   "source": [
    "df.columns[df.columns.str.startswith(\"LotConfig\")]"
   ]
  },
  {
   "cell_type": "markdown",
   "id": "59c06b8c-9d18-4be0-93d7-c58ddb114af8",
   "metadata": {},
   "source": [
    "# &#8659; LandSlope: complete &#8659;"
   ]
  },
  {
   "cell_type": "code",
   "execution_count": 19,
   "id": "05be76e6-0757-4d29-8155-9aafe948392a",
   "metadata": {},
   "outputs": [
    {
     "data": {
      "text/plain": [
       "LandSlope\n",
       "Gtl    1382\n",
       "Mod      65\n",
       "Sev      13\n",
       "Name: count, dtype: int64"
      ]
     },
     "execution_count": 19,
     "metadata": {},
     "output_type": "execute_result"
    }
   ],
   "source": [
    "df[\"LandSlope\"].value_counts()"
   ]
  },
  {
   "cell_type": "code",
   "execution_count": 20,
   "id": "de2befe4-ef94-42c4-833d-cf1ec3d07dca",
   "metadata": {},
   "outputs": [
    {
     "data": {
      "text/plain": [
       "np.float64(0.05115224817946653)"
      ]
     },
     "execution_count": 20,
     "metadata": {},
     "output_type": "execute_result"
    }
   ],
   "source": [
    "# To do this, label encode first\n",
    "LandSlope_order = {\"Gtl\": 0, \"Mod\": 1, \"Sev\": 2}\n",
    "df[\"LandSlope_le\"] = df[\"LandSlope\"].map(LandSlope_order)\n",
    "df[\"LandSlope_le\"].corr(df[\"SalePrice\"])"
   ]
  },
  {
   "cell_type": "markdown",
   "id": "ef2b8958-216e-48c7-a37c-ef4547d64bcc",
   "metadata": {},
   "source": [
    "### &#8593; Insignificant correlation\n",
    "#### so will label encode instead"
   ]
  },
  {
   "cell_type": "code",
   "execution_count": 21,
   "id": "599d2ba5-acda-4ddf-ae02-36b9dc336c9d",
   "metadata": {},
   "outputs": [],
   "source": [
    "df.drop(\"LandSlope_le\", axis=1, inplace=True)"
   ]
  },
  {
   "cell_type": "code",
   "execution_count": 22,
   "id": "347f603f-cc68-457b-9035-ea47dd2a93f7",
   "metadata": {},
   "outputs": [
    {
     "data": {
      "text/plain": [
       "(1460, 188)"
      ]
     },
     "execution_count": 22,
     "metadata": {},
     "output_type": "execute_result"
    }
   ],
   "source": [
    "df.shape"
   ]
  },
  {
   "cell_type": "code",
   "execution_count": 23,
   "id": "5d99b2bc-d4e0-4bc7-91e4-ec23ef616abd",
   "metadata": {},
   "outputs": [
    {
     "data": {
      "text/plain": [
       "Index(['LandSlope_Gtl', 'LandSlope_Mod', 'LandSlope_Sev'], dtype='object')"
      ]
     },
     "execution_count": 23,
     "metadata": {},
     "output_type": "execute_result"
    }
   ],
   "source": [
    "df = pd.get_dummies(df, columns=[\"LandSlope\"])\n",
    "df.columns[df.columns.str.startswith(\"LandSlope\")]"
   ]
  },
  {
   "cell_type": "markdown",
   "id": "ca0fe981-3cdf-44f7-8ecb-ca7d51ffebeb",
   "metadata": {},
   "source": [
    "# &#8659; Happy with Neighborhood &#8659;   Could still compute r, though..."
   ]
  },
  {
   "cell_type": "code",
   "execution_count": 24,
   "id": "0f763f5a-4961-45a1-a4ab-d8b9a67199af",
   "metadata": {},
   "outputs": [
    {
     "data": {
      "text/plain": [
       "25"
      ]
     },
     "execution_count": 24,
     "metadata": {},
     "output_type": "execute_result"
    }
   ],
   "source": [
    "len(df.columns[df.columns.str.startswith(\"Neighborhood\")])"
   ]
  },
  {
   "cell_type": "code",
   "execution_count": 25,
   "id": "2c89d464-cc15-4dbb-a6ea-db08f56985de",
   "metadata": {},
   "outputs": [
    {
     "data": {
      "text/plain": [
       "25"
      ]
     },
     "execution_count": 25,
     "metadata": {},
     "output_type": "execute_result"
    }
   ],
   "source": [
    "len(df_oldversion[\"Neighborhood\"].value_counts())"
   ]
  },
  {
   "cell_type": "code",
   "execution_count": 26,
   "id": "eba82e9e-ddb4-4026-b41c-2a0900a77588",
   "metadata": {},
   "outputs": [
    {
     "data": {
      "text/plain": [
       "Index(['Neighborhood_Blmngtn', 'Neighborhood_Blueste', 'Neighborhood_BrDale',\n",
       "       'Neighborhood_BrkSide', 'Neighborhood_ClearCr', 'Neighborhood_CollgCr',\n",
       "       'Neighborhood_Crawfor', 'Neighborhood_Edwards', 'Neighborhood_Gilbert',\n",
       "       'Neighborhood_IDOTRR', 'Neighborhood_MeadowV', 'Neighborhood_Mitchel',\n",
       "       'Neighborhood_NAmes', 'Neighborhood_NPkVill', 'Neighborhood_NWAmes',\n",
       "       'Neighborhood_NoRidge', 'Neighborhood_NridgHt', 'Neighborhood_OldTown',\n",
       "       'Neighborhood_SWISU', 'Neighborhood_Sawyer', 'Neighborhood_SawyerW',\n",
       "       'Neighborhood_Somerst', 'Neighborhood_StoneBr', 'Neighborhood_Timber',\n",
       "       'Neighborhood_Veenker'],\n",
       "      dtype='object')"
      ]
     },
     "execution_count": 26,
     "metadata": {},
     "output_type": "execute_result"
    }
   ],
   "source": [
    "df.columns[df.columns.str.startswith(\"Neighborhood\")]"
   ]
  },
  {
   "cell_type": "markdown",
   "id": "42f16091-13ce-426e-b4ca-bec5c222f8b7",
   "metadata": {},
   "source": [
    "## Condition1 and Condition2: combine them; dependent variables; (interaction terms)"
   ]
  },
  {
   "cell_type": "markdown",
   "id": "5b65f0dd-972f-455c-b58c-0ac34e46874b",
   "metadata": {},
   "source": [
    "## &#8659; BldgType: not done yet (did HouseStyle first) &#8659;  Compute r"
   ]
  },
  {
   "cell_type": "code",
   "execution_count": 27,
   "id": "0dc153b9-a73d-44dd-a421-26b72ed02373",
   "metadata": {},
   "outputs": [
    {
     "data": {
      "text/plain": [
       "Index(['BldgType_1Fam', 'BldgType_2fmCon', 'BldgType_Duplex', 'BldgType_Twnhs',\n",
       "       'BldgType_TwnhsE'],\n",
       "      dtype='object')"
      ]
     },
     "execution_count": 27,
     "metadata": {},
     "output_type": "execute_result"
    }
   ],
   "source": [
    "df.columns[df.columns.str.startswith(\"BldgType\")].unique()"
   ]
  },
  {
   "cell_type": "code",
   "execution_count": 28,
   "id": "04d108b1-15f8-49c6-8982-829f222d1bbc",
   "metadata": {},
   "outputs": [
    {
     "data": {
      "text/plain": [
       "array(['1Fam', '2fmCon', 'Duplex', 'TwnhsE', 'Twnhs'], dtype=object)"
      ]
     },
     "execution_count": 28,
     "metadata": {},
     "output_type": "execute_result"
    }
   ],
   "source": [
    "df_oldversion[\"BldgType\"].unique()"
   ]
  },
  {
   "cell_type": "code",
   "execution_count": 29,
   "id": "c6e0d67b-0ae1-44c1-9d01-d06df7bb20fb",
   "metadata": {},
   "outputs": [
    {
     "data": {
      "text/plain": [
       "Index(['BldgType_1Fam', 'BldgType_2fmCon', 'BldgType_Duplex', 'BldgType_Twnhs',\n",
       "       'BldgType_TwnhsE'],\n",
       "      dtype='object')"
      ]
     },
     "execution_count": 29,
     "metadata": {},
     "output_type": "execute_result"
    }
   ],
   "source": [
    "df.columns[df.columns.str.startswith(\"BldgType\")]"
   ]
  },
  {
   "cell_type": "code",
   "execution_count": 30,
   "id": "4083c588-40b7-4dcf-a422-45f82b3ddff3",
   "metadata": {},
   "outputs": [
    {
     "data": {
      "text/plain": [
       "Index(['BldgType'], dtype='object')"
      ]
     },
     "execution_count": 30,
     "metadata": {},
     "output_type": "execute_result"
    }
   ],
   "source": [
    "df_oldversion.columns[df_oldversion.columns.str.startswith(\"BldgType\")]"
   ]
  },
  {
   "cell_type": "code",
   "execution_count": 31,
   "id": "ac8816bc-bf9c-4ba0-8665-2027e407ad10",
   "metadata": {},
   "outputs": [
    {
     "data": {
      "text/plain": [
       "np.float64(-0.08559060818352933)"
      ]
     },
     "execution_count": 31,
     "metadata": {},
     "output_type": "execute_result"
    }
   ],
   "source": [
    "from sklearn.preprocessing import LabelEncoder\n",
    "le = LabelEncoder()\n",
    "# Put label encoded version of feature in encoded df, not the old one -- shouldn't add anything to old one!!\n",
    "df[\"BldgType_le\"] = le.fit_transform(df_oldversion[\"BldgType\"])\n",
    "df[\"BldgType_le\"].corr(df[\"SalePrice\"])"
   ]
  },
  {
   "cell_type": "markdown",
   "id": "0f1c307a-1c1e-4286-82b0-548fbbd2adde",
   "metadata": {},
   "source": [
    "#### Weak correlation, so let's stick to one-hot"
   ]
  },
  {
   "cell_type": "code",
   "execution_count": 32,
   "id": "42859d02-b518-4691-a643-b81c3714451a",
   "metadata": {},
   "outputs": [
    {
     "data": {
      "text/plain": [
       "Index(['BldgType_1Fam', 'BldgType_2fmCon', 'BldgType_Duplex', 'BldgType_Twnhs',\n",
       "       'BldgType_TwnhsE'],\n",
       "      dtype='object')"
      ]
     },
     "execution_count": 32,
     "metadata": {},
     "output_type": "execute_result"
    }
   ],
   "source": [
    "df.drop(\"BldgType_le\", axis=1, inplace=True)\n",
    "df.columns[df.columns.str.startswith(\"BldgType\")]"
   ]
  },
  {
   "cell_type": "code",
   "execution_count": 33,
   "id": "782ea96a-5f77-489d-a56f-49b5db92aca2",
   "metadata": {},
   "outputs": [
    {
     "data": {
      "text/plain": [
       "(1460, 190)"
      ]
     },
     "execution_count": 33,
     "metadata": {},
     "output_type": "execute_result"
    }
   ],
   "source": [
    "df.shape"
   ]
  },
  {
   "cell_type": "markdown",
   "id": "6b3a6547-af59-42f4-a3c6-5b233bf880f0",
   "metadata": {},
   "source": [
    "## &#8659; HouseStyle: done -- see other note below &#8659;"
   ]
  },
  {
   "cell_type": "code",
   "execution_count": 34,
   "id": "b9ad4ae8-0606-4650-8516-d8da2c9a774f",
   "metadata": {},
   "outputs": [
    {
     "data": {
      "text/plain": [
       "Index(['HouseStyle_1.5Fin', 'HouseStyle_1.5Unf', 'HouseStyle_1Story',\n",
       "       'HouseStyle_2.5Fin', 'HouseStyle_2.5Unf', 'HouseStyle_2Story',\n",
       "       'HouseStyle_SFoyer', 'HouseStyle_SLvl'],\n",
       "      dtype='object')"
      ]
     },
     "execution_count": 34,
     "metadata": {},
     "output_type": "execute_result"
    }
   ],
   "source": [
    "df.columns[df.columns.str.startswith(\"HouseStyle\")]"
   ]
  },
  {
   "cell_type": "code",
   "execution_count": 35,
   "id": "fbdce0fe-c60c-41de-8366-5c6bb816bae4",
   "metadata": {},
   "outputs": [],
   "source": [
    "housestyle = df[['HouseStyle_1.5Fin', 'HouseStyle_1.5Unf', 'HouseStyle_1Story',\n",
    "       'HouseStyle_2.5Fin', 'HouseStyle_2.5Unf', 'HouseStyle_2Story',\n",
    "       'HouseStyle_SFoyer', 'HouseStyle_SLvl']]\n",
    "df[\"HouseStyle\"] = pd.from_dummies(housestyle)"
   ]
  },
  {
   "cell_type": "code",
   "execution_count": 36,
   "id": "4ed9ca00-8870-48ff-a77d-0c7b07266917",
   "metadata": {},
   "outputs": [
    {
     "data": {
      "text/plain": [
       "HouseStyle\n",
       "HouseStyle_1Story    726\n",
       "HouseStyle_2Story    445\n",
       "HouseStyle_1.5Fin    154\n",
       "HouseStyle_SLvl       65\n",
       "HouseStyle_SFoyer     37\n",
       "HouseStyle_1.5Unf     14\n",
       "HouseStyle_2.5Unf     11\n",
       "HouseStyle_2.5Fin      8\n",
       "Name: count, dtype: int64"
      ]
     },
     "execution_count": 36,
     "metadata": {},
     "output_type": "execute_result"
    }
   ],
   "source": [
    "df[\"HouseStyle\"].value_counts()"
   ]
  },
  {
   "cell_type": "code",
   "execution_count": 37,
   "id": "3ffd82dd-0477-4190-bdf7-e30f493a0b5a",
   "metadata": {},
   "outputs": [
    {
     "data": {
      "text/plain": [
       "HouseStyle\n",
       "1Story    726\n",
       "2Story    445\n",
       "1.5Fin    154\n",
       "SLvl       65\n",
       "SFoyer     37\n",
       "1.5Unf     14\n",
       "2.5Unf     11\n",
       "2.5Fin      8\n",
       "Name: count, dtype: int64"
      ]
     },
     "execution_count": 37,
     "metadata": {},
     "output_type": "execute_result"
    }
   ],
   "source": [
    "df_oldversion[\"HouseStyle\"].value_counts()"
   ]
  },
  {
   "cell_type": "markdown",
   "id": "c2f99b33-0e57-4978-a368-58ce539780bb",
   "metadata": {},
   "source": [
    "----------------------------------------------------------------------------------\n",
    "\n",
    "#### &#8659; &#8659;              IMPORTANT: When I tried &#8659; &#8659; mapping the order to, then computing correlation on, df[\"HouseStyle\"] -- the new DataFrame's version, it returned nan. And I checked for null values everywhere necessary. So I assume something about the undoing of one-hot encoding caused a problem. Because as you can see below, doing the same operations on the OLD DataFrame's column works. As does using LabelEncoder on the new DataFrame's column\n",
    "\n",
    "#### In any case, the correlation is weak, so I will stick with one-hot encoding"
   ]
  },
  {
   "cell_type": "code",
   "execution_count": 38,
   "id": "effd5118-6db5-432a-b58e-44ad03a2df75",
   "metadata": {},
   "outputs": [
    {
     "data": {
      "text/plain": [
       "np.float64(0.14822486731584716)"
      ]
     },
     "execution_count": 38,
     "metadata": {},
     "output_type": "execute_result"
    }
   ],
   "source": [
    "housestyle_order = {\"1Story\": 0, \"1.5Unf\": 1, \"1.5Fin\": 2, \"2Story\": 3, \n",
    "                   \"2.5Unf\": 4, \"2.5Fin\": 5}\n",
    "df_oldversion[\"HouseStyle_le\"] = df_oldversion[\"HouseStyle\"].map(housestyle_order)\n",
    "df_oldversion[\"HouseStyle_le\"].corr(df_oldversion[\"SalePrice\"])"
   ]
  },
  {
   "cell_type": "code",
   "execution_count": 39,
   "id": "fffc3d5e-37fb-4ebe-868a-c6bab501cfb3",
   "metadata": {},
   "outputs": [
    {
     "data": {
      "text/plain": [
       "np.float64(0.18016262334399116)"
      ]
     },
     "execution_count": 39,
     "metadata": {},
     "output_type": "execute_result"
    }
   ],
   "source": [
    "from sklearn.preprocessing import LabelEncoder\n",
    "le = LabelEncoder()\n",
    "df[\"HouseStyle_le\"] = le.fit_transform(df[\"HouseStyle\"])\n",
    "df[\"HouseStyle_le\"].corr(df[\"SalePrice\"])"
   ]
  },
  {
   "cell_type": "code",
   "execution_count": 40,
   "id": "502e15a3-52e6-4a9c-a51e-58c8289ffd7e",
   "metadata": {},
   "outputs": [],
   "source": [
    "df_oldversion.drop(columns=\"HouseStyle_le\", inplace=True)"
   ]
  },
  {
   "cell_type": "code",
   "execution_count": 41,
   "id": "42c7cfbe-f4da-48c8-bc35-f043afb80137",
   "metadata": {},
   "outputs": [
    {
     "data": {
      "text/plain": [
       "(1460, 81)"
      ]
     },
     "execution_count": 41,
     "metadata": {},
     "output_type": "execute_result"
    }
   ],
   "source": [
    "df_oldversion.shape"
   ]
  },
  {
   "cell_type": "code",
   "execution_count": 42,
   "id": "3c3c12b1-a378-460b-972a-97700704ec8a",
   "metadata": {},
   "outputs": [
    {
     "data": {
      "text/plain": [
       "False"
      ]
     },
     "execution_count": 42,
     "metadata": {},
     "output_type": "execute_result"
    }
   ],
   "source": [
    "df.drop([\"HouseStyle\", \"HouseStyle_le\"], axis=1, inplace=True)\n",
    "\"HouseStyle\" in df.columns"
   ]
  },
  {
   "cell_type": "code",
   "execution_count": 43,
   "id": "0636cc91-ee1c-4711-ae92-efd73177832a",
   "metadata": {},
   "outputs": [
    {
     "data": {
      "text/plain": [
       "(1460, 190)"
      ]
     },
     "execution_count": 43,
     "metadata": {},
     "output_type": "execute_result"
    }
   ],
   "source": [
    "df.shape"
   ]
  },
  {
   "cell_type": "code",
   "execution_count": 44,
   "id": "9968ac11-3839-4b9e-a11c-8837eaa278e4",
   "metadata": {},
   "outputs": [
    {
     "data": {
      "text/plain": [
       "8"
      ]
     },
     "execution_count": 44,
     "metadata": {},
     "output_type": "execute_result"
    }
   ],
   "source": [
    "df.columns[df.columns.str.startswith(\"HouseStyle\")].nunique()"
   ]
  },
  {
   "cell_type": "code",
   "execution_count": 45,
   "id": "30882659-f241-4671-8cba-aa916fa905de",
   "metadata": {},
   "outputs": [
    {
     "data": {
      "text/plain": [
       "1"
      ]
     },
     "execution_count": 45,
     "metadata": {},
     "output_type": "execute_result"
    }
   ],
   "source": [
    "df_oldversion.columns[df_oldversion.columns.str.startswith(\"HouseStyle\")].nunique()"
   ]
  },
  {
   "cell_type": "markdown",
   "id": "84c2d543-f3f9-496c-b6d4-3e27cebf2c0c",
   "metadata": {},
   "source": [
    "#### &#8659; Why so many null values in LotFrontage?? For diverse property types and lot configurations. How to fill in these nulls?"
   ]
  },
  {
   "cell_type": "code",
   "execution_count": 46,
   "id": "4be3e9de-07bb-4b2f-9b76-31ddc8c40dff",
   "metadata": {},
   "outputs": [
    {
     "data": {
      "text/plain": [
       "np.int64(259)"
      ]
     },
     "execution_count": 46,
     "metadata": {},
     "output_type": "execute_result"
    }
   ],
   "source": [
    "df[\"LotFrontage\"].isna().sum()"
   ]
  },
  {
   "cell_type": "code",
   "execution_count": 47,
   "id": "83f918e2-b4d2-43fc-bf7f-c83f288e7605",
   "metadata": {},
   "outputs": [
    {
     "data": {
      "text/plain": [
       "LotConfig\n",
       "Inside     134\n",
       "Corner      62\n",
       "CulDSac     49\n",
       "FR2         14\n",
       "Name: count, dtype: int64"
      ]
     },
     "execution_count": 47,
     "metadata": {},
     "output_type": "execute_result"
    }
   ],
   "source": [
    "df_oldversion.loc[df_oldversion[\"LotFrontage\"].isna(), \"LotConfig\"].value_counts()"
   ]
  },
  {
   "cell_type": "code",
   "execution_count": 48,
   "id": "3cbd802a-aa2c-4b1f-8f3a-5863fea5bead",
   "metadata": {},
   "outputs": [
    {
     "data": {
      "text/plain": [
       "BldgType\n",
       "1Fam      226\n",
       "TwnhsE     22\n",
       "Duplex      5\n",
       "Twnhs       3\n",
       "2fmCon      3\n",
       "Name: count, dtype: int64"
      ]
     },
     "execution_count": 48,
     "metadata": {},
     "output_type": "execute_result"
    }
   ],
   "source": [
    "df_oldversion.loc[df_oldversion[\"LotFrontage\"].isna(), \"BldgType\"].value_counts()"
   ]
  },
  {
   "cell_type": "markdown",
   "id": "4c6c30b6-f125-408b-a18c-9ca444f98930",
   "metadata": {},
   "source": [
    "## Overall qual"
   ]
  },
  {
   "cell_type": "code",
   "execution_count": 49,
   "id": "43bd9eb8-87b2-40b2-be7f-9ef74a80b0c9",
   "metadata": {},
   "outputs": [
    {
     "data": {
      "text/plain": [
       "OverallQual\n",
       "1       2\n",
       "2       3\n",
       "3      20\n",
       "4     116\n",
       "5     397\n",
       "6     374\n",
       "7     319\n",
       "8     168\n",
       "9      43\n",
       "10     18\n",
       "Name: count, dtype: int64"
      ]
     },
     "execution_count": 49,
     "metadata": {},
     "output_type": "execute_result"
    }
   ],
   "source": [
    "df[\"OverallQual\"].value_counts().sort_index()"
   ]
  },
  {
   "cell_type": "code",
   "execution_count": 50,
   "id": "235cab29-2062-4911-aa2c-b55d6b7d8968",
   "metadata": {},
   "outputs": [
    {
     "data": {
      "text/plain": [
       "OverallQual\n",
       "1       2\n",
       "2       3\n",
       "3      20\n",
       "4     116\n",
       "5     397\n",
       "6     374\n",
       "7     319\n",
       "8     168\n",
       "9      43\n",
       "10     18\n",
       "Name: count, dtype: int64"
      ]
     },
     "execution_count": 50,
     "metadata": {},
     "output_type": "execute_result"
    }
   ],
   "source": [
    "df_oldversion[\"OverallQual\"].value_counts().sort_index()"
   ]
  },
  {
   "cell_type": "code",
   "execution_count": 51,
   "id": "7ed498f2-5474-4877-bd4c-a2dc1b05a8f3",
   "metadata": {},
   "outputs": [
    {
     "data": {
      "text/plain": [
       "OverallQual_le\n",
       "0      2\n",
       "1      3\n",
       "2     20\n",
       "3    116\n",
       "4    397\n",
       "5    374\n",
       "6    319\n",
       "7    168\n",
       "8     43\n",
       "9     18\n",
       "Name: count, dtype: int64"
      ]
     },
     "execution_count": 51,
     "metadata": {},
     "output_type": "execute_result"
    }
   ],
   "source": [
    "overallqual_order = {1: 0, 2: 1, 3: 2, 4: 3, 5: 4, 6: 5, 7: 6, 8: 7, 9: 8, 10: 9}\n",
    "df[\"OverallQual_le\"] = df[\"OverallQual\"].map(overallqual_order)\n",
    "df[\"OverallQual_le\"].value_counts().sort_index()"
   ]
  },
  {
   "cell_type": "code",
   "execution_count": 52,
   "id": "6b8b8017-4cdc-44e5-8db4-ffc57df1f817",
   "metadata": {},
   "outputs": [
    {
     "data": {
      "text/plain": [
       "np.float64(0.7909816005838047)"
      ]
     },
     "execution_count": 52,
     "metadata": {},
     "output_type": "execute_result"
    }
   ],
   "source": [
    "df[\"OverallQual_le\"].corr(df[\"SalePrice\"])"
   ]
  },
  {
   "cell_type": "markdown",
   "id": "59f6aa3a-63b3-4c84-96a0-2cb88992e00c",
   "metadata": {},
   "source": [
    "### Now that's what I call a correlation!"
   ]
  },
  {
   "cell_type": "markdown",
   "id": "d78c8939-cfe1-42fc-9a2d-babe847fc7ad",
   "metadata": {},
   "source": [
    "### BUT once all done, need to re-scale b/c the model(s) will be sensitive to distance -- get the le features of different lengths on one comparable scale -- even contribution of each"
   ]
  },
  {
   "cell_type": "markdown",
   "id": "714273ef-94a5-4796-a02b-ca8801af639c",
   "metadata": {},
   "source": [
    "## &#8659; Overall cond &#8659;"
   ]
  },
  {
   "cell_type": "code",
   "execution_count": 53,
   "id": "3ed633fa-17d8-42eb-ae05-2ca9931df547",
   "metadata": {},
   "outputs": [
    {
     "data": {
      "text/plain": [
       "OverallCond\n",
       "1      1\n",
       "2      5\n",
       "3     25\n",
       "4     57\n",
       "5    821\n",
       "6    252\n",
       "7    205\n",
       "8     72\n",
       "9     22\n",
       "Name: count, dtype: int64"
      ]
     },
     "execution_count": 53,
     "metadata": {},
     "output_type": "execute_result"
    }
   ],
   "source": [
    "df[\"OverallCond\"].value_counts().sort_index()"
   ]
  },
  {
   "cell_type": "code",
   "execution_count": 54,
   "id": "85792761-d410-4eaf-b77f-8460235a0ca0",
   "metadata": {},
   "outputs": [
    {
     "data": {
      "text/plain": [
       "OverallCond\n",
       "1      1\n",
       "2      5\n",
       "3     25\n",
       "4     57\n",
       "5    821\n",
       "6    252\n",
       "7    205\n",
       "8     72\n",
       "9     22\n",
       "Name: count, dtype: int64"
      ]
     },
     "execution_count": 54,
     "metadata": {},
     "output_type": "execute_result"
    }
   ],
   "source": [
    "df_oldversion[\"OverallCond\"].value_counts().sort_index()"
   ]
  },
  {
   "cell_type": "code",
   "execution_count": 55,
   "id": "0bad7a03-3682-4805-9acb-c0afc02008bc",
   "metadata": {},
   "outputs": [
    {
     "data": {
      "text/plain": [
       "(1460, 81)"
      ]
     },
     "execution_count": 55,
     "metadata": {},
     "output_type": "execute_result"
    }
   ],
   "source": [
    "df_oldversion.shape"
   ]
  },
  {
   "cell_type": "code",
   "execution_count": 56,
   "id": "f0ed0088-f201-4967-a09b-437f09ef142b",
   "metadata": {},
   "outputs": [
    {
     "data": {
      "text/plain": [
       "(1460, 191)"
      ]
     },
     "execution_count": 56,
     "metadata": {},
     "output_type": "execute_result"
    }
   ],
   "source": [
    "df.shape"
   ]
  },
  {
   "cell_type": "code",
   "execution_count": 57,
   "id": "a8e935dd-efd5-4f5f-b3fe-484eb7ee6cdb",
   "metadata": {},
   "outputs": [
    {
     "data": {
      "text/plain": [
       "OverallCond_le\n",
       "0      1\n",
       "1      5\n",
       "2     25\n",
       "3     57\n",
       "4    821\n",
       "5    252\n",
       "6    205\n",
       "7     72\n",
       "8     22\n",
       "Name: count, dtype: int64"
      ]
     },
     "execution_count": 57,
     "metadata": {},
     "output_type": "execute_result"
    }
   ],
   "source": [
    "overallcond_order = {1: 0, 2: 1, 3: 2, 4: 3, 5: 4, 6: 5, 7: 6, 8: 7, 9: 8, 10: 9}\n",
    "df[\"OverallCond_le\"] = df[\"OverallCond\"].map(overallcond_order)\n",
    "df[\"OverallCond_le\"].value_counts().sort_index()"
   ]
  },
  {
   "cell_type": "code",
   "execution_count": 58,
   "id": "7570c9c0-830e-4017-9cff-7b4243d61f17",
   "metadata": {},
   "outputs": [
    {
     "data": {
      "text/plain": [
       "np.float64(-0.07785589404867801)"
      ]
     },
     "execution_count": 58,
     "metadata": {},
     "output_type": "execute_result"
    }
   ],
   "source": [
    "df[\"OverallCond_le\"].corr(df[\"SalePrice\"])"
   ]
  },
  {
   "cell_type": "markdown",
   "id": "304f49a2-b454-45dd-80a8-f9049714d515",
   "metadata": {},
   "source": [
    "### &#8593; Weak correlation (surprisingly), so will one-hot encode &#8593;"
   ]
  },
  {
   "cell_type": "code",
   "execution_count": 59,
   "id": "2f1d266d-eba5-4e19-b14e-03119d3f7a44",
   "metadata": {},
   "outputs": [],
   "source": [
    "df.drop(\"OverallCond_le\", axis=1, inplace=True)"
   ]
  },
  {
   "cell_type": "code",
   "execution_count": 60,
   "id": "6331cc1f-4132-4f92-9153-a62977af4f12",
   "metadata": {},
   "outputs": [
    {
     "data": {
      "text/plain": [
       "(1460, 191)"
      ]
     },
     "execution_count": 60,
     "metadata": {},
     "output_type": "execute_result"
    }
   ],
   "source": [
    "df.shape"
   ]
  },
  {
   "cell_type": "markdown",
   "id": "c3015b6a-0c4d-40ae-92cb-4744eb3d4db6",
   "metadata": {},
   "source": [
    "### Decide which encoding method for year, if any"
   ]
  },
  {
   "cell_type": "markdown",
   "id": "51edda66-a5d4-4a7d-a011-996076855ace",
   "metadata": {},
   "source": [
    "## A general note: remember to check all non-encoded rows are removed before moving on to next stage!"
   ]
  },
  {
   "cell_type": "markdown",
   "id": "aaaea46e",
   "metadata": {},
   "source": [
    "### <span style=\"color:blue\"> Test mod -- first mod from within VS Code -- 1234    (inline HTML)"
   ]
  },
  {
   "cell_type": "markdown",
   "id": "fdf1b656",
   "metadata": {},
   "source": []
  }
 ],
 "metadata": {
  "kernelspec": {
   "display_name": "0125LinReg_env",
   "language": "python",
   "name": "python3"
  },
  "language_info": {
   "codemirror_mode": {
    "name": "ipython",
    "version": 3
   },
   "file_extension": ".py",
   "mimetype": "text/x-python",
   "name": "python",
   "nbconvert_exporter": "python",
   "pygments_lexer": "ipython3",
   "version": "3.11.11"
  }
 },
 "nbformat": 4,
 "nbformat_minor": 5
}

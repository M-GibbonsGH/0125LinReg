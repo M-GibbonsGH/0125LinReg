{
 "cells": [
  {
   "cell_type": "code",
   "execution_count": 1,
   "id": "3b4d9bca-8629-4d20-95d7-1116736104da",
   "metadata": {},
   "outputs": [
    {
     "name": "stdout",
     "output_type": "stream",
     "text": [
      "<class 'pandas.core.frame.DataFrame'>\n",
      "RangeIndex: 1460 entries, 0 to 1459\n",
      "Columns: 185 entries, Id to SaleCondition_Partial\n",
      "dtypes: bool(122), float64(3), int64(34), object(26)\n",
      "memory usage: 892.7+ KB\n"
     ]
    }
   ],
   "source": [
    "import pandas as pd\n",
    "df_oldversion = pd.read_csv(\"./train.csv\")\n",
    "df = pd.read_csv(\"./train_encodedv.csv\")\n",
    "df.info()"
   ]
  },
  {
   "cell_type": "code",
   "execution_count": 2,
   "id": "093016f7-2a9d-4f27-98af-be0c20ce1a1a",
   "metadata": {},
   "outputs": [
    {
     "data": {
      "text/plain": [
       "Index(['Alley_Grvl', 'Alley_Pave'], dtype='object')"
      ]
     },
     "execution_count": 2,
     "metadata": {},
     "output_type": "execute_result"
    }
   ],
   "source": [
    "df.columns[df.columns.str.startswith(\"Alley\")]"
   ]
  },
  {
   "cell_type": "code",
   "execution_count": 3,
   "id": "ae9fc872-8c0e-4589-a307-d5fbe053f363",
   "metadata": {},
   "outputs": [
    {
     "data": {
      "text/html": [
       "<div>\n",
       "<style scoped>\n",
       "    .dataframe tbody tr th:only-of-type {\n",
       "        vertical-align: middle;\n",
       "    }\n",
       "\n",
       "    .dataframe tbody tr th {\n",
       "        vertical-align: top;\n",
       "    }\n",
       "\n",
       "    .dataframe thead th {\n",
       "        text-align: right;\n",
       "    }\n",
       "</style>\n",
       "<table border=\"1\" class=\"dataframe\">\n",
       "  <thead>\n",
       "    <tr style=\"text-align: right;\">\n",
       "      <th></th>\n",
       "      <th>Id</th>\n",
       "      <th>MSSubClass</th>\n",
       "      <th>MSZoning</th>\n",
       "      <th>LotFrontage</th>\n",
       "      <th>LotArea</th>\n",
       "      <th>Street</th>\n",
       "      <th>Alley</th>\n",
       "      <th>LotShape</th>\n",
       "      <th>LandContour</th>\n",
       "      <th>Utilities</th>\n",
       "      <th>...</th>\n",
       "      <th>PoolArea</th>\n",
       "      <th>PoolQC</th>\n",
       "      <th>Fence</th>\n",
       "      <th>MiscFeature</th>\n",
       "      <th>MiscVal</th>\n",
       "      <th>MoSold</th>\n",
       "      <th>YrSold</th>\n",
       "      <th>SaleType</th>\n",
       "      <th>SaleCondition</th>\n",
       "      <th>SalePrice</th>\n",
       "    </tr>\n",
       "  </thead>\n",
       "  <tbody>\n",
       "    <tr>\n",
       "      <th>21</th>\n",
       "      <td>22</td>\n",
       "      <td>45</td>\n",
       "      <td>RM</td>\n",
       "      <td>57.0</td>\n",
       "      <td>7449</td>\n",
       "      <td>Pave</td>\n",
       "      <td>Grvl</td>\n",
       "      <td>Reg</td>\n",
       "      <td>Bnk</td>\n",
       "      <td>AllPub</td>\n",
       "      <td>...</td>\n",
       "      <td>0</td>\n",
       "      <td>NaN</td>\n",
       "      <td>GdPrv</td>\n",
       "      <td>NaN</td>\n",
       "      <td>0</td>\n",
       "      <td>6</td>\n",
       "      <td>2007</td>\n",
       "      <td>WD</td>\n",
       "      <td>Normal</td>\n",
       "      <td>139400</td>\n",
       "    </tr>\n",
       "    <tr>\n",
       "      <th>30</th>\n",
       "      <td>31</td>\n",
       "      <td>70</td>\n",
       "      <td>C (all)</td>\n",
       "      <td>50.0</td>\n",
       "      <td>8500</td>\n",
       "      <td>Pave</td>\n",
       "      <td>Pave</td>\n",
       "      <td>Reg</td>\n",
       "      <td>Lvl</td>\n",
       "      <td>AllPub</td>\n",
       "      <td>...</td>\n",
       "      <td>0</td>\n",
       "      <td>NaN</td>\n",
       "      <td>MnPrv</td>\n",
       "      <td>NaN</td>\n",
       "      <td>0</td>\n",
       "      <td>7</td>\n",
       "      <td>2008</td>\n",
       "      <td>WD</td>\n",
       "      <td>Normal</td>\n",
       "      <td>40000</td>\n",
       "    </tr>\n",
       "    <tr>\n",
       "      <th>56</th>\n",
       "      <td>57</td>\n",
       "      <td>160</td>\n",
       "      <td>FV</td>\n",
       "      <td>24.0</td>\n",
       "      <td>2645</td>\n",
       "      <td>Pave</td>\n",
       "      <td>Pave</td>\n",
       "      <td>Reg</td>\n",
       "      <td>Lvl</td>\n",
       "      <td>AllPub</td>\n",
       "      <td>...</td>\n",
       "      <td>0</td>\n",
       "      <td>NaN</td>\n",
       "      <td>NaN</td>\n",
       "      <td>NaN</td>\n",
       "      <td>0</td>\n",
       "      <td>8</td>\n",
       "      <td>2009</td>\n",
       "      <td>WD</td>\n",
       "      <td>Abnorml</td>\n",
       "      <td>172500</td>\n",
       "    </tr>\n",
       "    <tr>\n",
       "      <th>79</th>\n",
       "      <td>80</td>\n",
       "      <td>50</td>\n",
       "      <td>RM</td>\n",
       "      <td>60.0</td>\n",
       "      <td>10440</td>\n",
       "      <td>Pave</td>\n",
       "      <td>Grvl</td>\n",
       "      <td>Reg</td>\n",
       "      <td>Lvl</td>\n",
       "      <td>AllPub</td>\n",
       "      <td>...</td>\n",
       "      <td>0</td>\n",
       "      <td>NaN</td>\n",
       "      <td>MnPrv</td>\n",
       "      <td>NaN</td>\n",
       "      <td>0</td>\n",
       "      <td>5</td>\n",
       "      <td>2009</td>\n",
       "      <td>WD</td>\n",
       "      <td>Normal</td>\n",
       "      <td>110000</td>\n",
       "    </tr>\n",
       "    <tr>\n",
       "      <th>87</th>\n",
       "      <td>88</td>\n",
       "      <td>160</td>\n",
       "      <td>FV</td>\n",
       "      <td>40.0</td>\n",
       "      <td>3951</td>\n",
       "      <td>Pave</td>\n",
       "      <td>Pave</td>\n",
       "      <td>Reg</td>\n",
       "      <td>Lvl</td>\n",
       "      <td>AllPub</td>\n",
       "      <td>...</td>\n",
       "      <td>0</td>\n",
       "      <td>NaN</td>\n",
       "      <td>NaN</td>\n",
       "      <td>NaN</td>\n",
       "      <td>0</td>\n",
       "      <td>6</td>\n",
       "      <td>2009</td>\n",
       "      <td>New</td>\n",
       "      <td>Partial</td>\n",
       "      <td>164500</td>\n",
       "    </tr>\n",
       "    <tr>\n",
       "      <th>...</th>\n",
       "      <td>...</td>\n",
       "      <td>...</td>\n",
       "      <td>...</td>\n",
       "      <td>...</td>\n",
       "      <td>...</td>\n",
       "      <td>...</td>\n",
       "      <td>...</td>\n",
       "      <td>...</td>\n",
       "      <td>...</td>\n",
       "      <td>...</td>\n",
       "      <td>...</td>\n",
       "      <td>...</td>\n",
       "      <td>...</td>\n",
       "      <td>...</td>\n",
       "      <td>...</td>\n",
       "      <td>...</td>\n",
       "      <td>...</td>\n",
       "      <td>...</td>\n",
       "      <td>...</td>\n",
       "      <td>...</td>\n",
       "      <td>...</td>\n",
       "    </tr>\n",
       "    <tr>\n",
       "      <th>1404</th>\n",
       "      <td>1405</td>\n",
       "      <td>50</td>\n",
       "      <td>RL</td>\n",
       "      <td>60.0</td>\n",
       "      <td>10410</td>\n",
       "      <td>Pave</td>\n",
       "      <td>Grvl</td>\n",
       "      <td>Reg</td>\n",
       "      <td>Lvl</td>\n",
       "      <td>AllPub</td>\n",
       "      <td>...</td>\n",
       "      <td>0</td>\n",
       "      <td>NaN</td>\n",
       "      <td>MnPrv</td>\n",
       "      <td>NaN</td>\n",
       "      <td>0</td>\n",
       "      <td>1</td>\n",
       "      <td>2006</td>\n",
       "      <td>WD</td>\n",
       "      <td>Family</td>\n",
       "      <td>105000</td>\n",
       "    </tr>\n",
       "    <tr>\n",
       "      <th>1414</th>\n",
       "      <td>1415</td>\n",
       "      <td>50</td>\n",
       "      <td>RL</td>\n",
       "      <td>64.0</td>\n",
       "      <td>13053</td>\n",
       "      <td>Pave</td>\n",
       "      <td>Pave</td>\n",
       "      <td>Reg</td>\n",
       "      <td>Bnk</td>\n",
       "      <td>AllPub</td>\n",
       "      <td>...</td>\n",
       "      <td>0</td>\n",
       "      <td>NaN</td>\n",
       "      <td>NaN</td>\n",
       "      <td>NaN</td>\n",
       "      <td>0</td>\n",
       "      <td>6</td>\n",
       "      <td>2008</td>\n",
       "      <td>WD</td>\n",
       "      <td>Normal</td>\n",
       "      <td>207000</td>\n",
       "    </tr>\n",
       "    <tr>\n",
       "      <th>1427</th>\n",
       "      <td>1428</td>\n",
       "      <td>50</td>\n",
       "      <td>RL</td>\n",
       "      <td>60.0</td>\n",
       "      <td>10930</td>\n",
       "      <td>Pave</td>\n",
       "      <td>Grvl</td>\n",
       "      <td>Reg</td>\n",
       "      <td>Bnk</td>\n",
       "      <td>AllPub</td>\n",
       "      <td>...</td>\n",
       "      <td>0</td>\n",
       "      <td>NaN</td>\n",
       "      <td>NaN</td>\n",
       "      <td>NaN</td>\n",
       "      <td>0</td>\n",
       "      <td>4</td>\n",
       "      <td>2008</td>\n",
       "      <td>WD</td>\n",
       "      <td>Normal</td>\n",
       "      <td>140000</td>\n",
       "    </tr>\n",
       "    <tr>\n",
       "      <th>1432</th>\n",
       "      <td>1433</td>\n",
       "      <td>30</td>\n",
       "      <td>RL</td>\n",
       "      <td>60.0</td>\n",
       "      <td>10800</td>\n",
       "      <td>Pave</td>\n",
       "      <td>Grvl</td>\n",
       "      <td>Reg</td>\n",
       "      <td>Lvl</td>\n",
       "      <td>AllPub</td>\n",
       "      <td>...</td>\n",
       "      <td>0</td>\n",
       "      <td>NaN</td>\n",
       "      <td>NaN</td>\n",
       "      <td>NaN</td>\n",
       "      <td>0</td>\n",
       "      <td>8</td>\n",
       "      <td>2007</td>\n",
       "      <td>WD</td>\n",
       "      <td>Normal</td>\n",
       "      <td>64500</td>\n",
       "    </tr>\n",
       "    <tr>\n",
       "      <th>1454</th>\n",
       "      <td>1455</td>\n",
       "      <td>20</td>\n",
       "      <td>FV</td>\n",
       "      <td>62.0</td>\n",
       "      <td>7500</td>\n",
       "      <td>Pave</td>\n",
       "      <td>Pave</td>\n",
       "      <td>Reg</td>\n",
       "      <td>Lvl</td>\n",
       "      <td>AllPub</td>\n",
       "      <td>...</td>\n",
       "      <td>0</td>\n",
       "      <td>NaN</td>\n",
       "      <td>NaN</td>\n",
       "      <td>NaN</td>\n",
       "      <td>0</td>\n",
       "      <td>10</td>\n",
       "      <td>2009</td>\n",
       "      <td>WD</td>\n",
       "      <td>Normal</td>\n",
       "      <td>185000</td>\n",
       "    </tr>\n",
       "  </tbody>\n",
       "</table>\n",
       "<p>91 rows × 81 columns</p>\n",
       "</div>"
      ],
      "text/plain": [
       "        Id  MSSubClass MSZoning  LotFrontage  LotArea Street Alley LotShape  \\\n",
       "21      22          45       RM         57.0     7449   Pave  Grvl      Reg   \n",
       "30      31          70  C (all)         50.0     8500   Pave  Pave      Reg   \n",
       "56      57         160       FV         24.0     2645   Pave  Pave      Reg   \n",
       "79      80          50       RM         60.0    10440   Pave  Grvl      Reg   \n",
       "87      88         160       FV         40.0     3951   Pave  Pave      Reg   \n",
       "...    ...         ...      ...          ...      ...    ...   ...      ...   \n",
       "1404  1405          50       RL         60.0    10410   Pave  Grvl      Reg   \n",
       "1414  1415          50       RL         64.0    13053   Pave  Pave      Reg   \n",
       "1427  1428          50       RL         60.0    10930   Pave  Grvl      Reg   \n",
       "1432  1433          30       RL         60.0    10800   Pave  Grvl      Reg   \n",
       "1454  1455          20       FV         62.0     7500   Pave  Pave      Reg   \n",
       "\n",
       "     LandContour Utilities  ... PoolArea PoolQC  Fence MiscFeature MiscVal  \\\n",
       "21           Bnk    AllPub  ...        0    NaN  GdPrv         NaN       0   \n",
       "30           Lvl    AllPub  ...        0    NaN  MnPrv         NaN       0   \n",
       "56           Lvl    AllPub  ...        0    NaN    NaN         NaN       0   \n",
       "79           Lvl    AllPub  ...        0    NaN  MnPrv         NaN       0   \n",
       "87           Lvl    AllPub  ...        0    NaN    NaN         NaN       0   \n",
       "...          ...       ...  ...      ...    ...    ...         ...     ...   \n",
       "1404         Lvl    AllPub  ...        0    NaN  MnPrv         NaN       0   \n",
       "1414         Bnk    AllPub  ...        0    NaN    NaN         NaN       0   \n",
       "1427         Bnk    AllPub  ...        0    NaN    NaN         NaN       0   \n",
       "1432         Lvl    AllPub  ...        0    NaN    NaN         NaN       0   \n",
       "1454         Lvl    AllPub  ...        0    NaN    NaN         NaN       0   \n",
       "\n",
       "     MoSold YrSold  SaleType  SaleCondition  SalePrice  \n",
       "21        6   2007        WD         Normal     139400  \n",
       "30        7   2008        WD         Normal      40000  \n",
       "56        8   2009        WD        Abnorml     172500  \n",
       "79        5   2009        WD         Normal     110000  \n",
       "87        6   2009       New        Partial     164500  \n",
       "...     ...    ...       ...            ...        ...  \n",
       "1404      1   2006        WD         Family     105000  \n",
       "1414      6   2008        WD         Normal     207000  \n",
       "1427      4   2008        WD         Normal     140000  \n",
       "1432      8   2007        WD         Normal      64500  \n",
       "1454     10   2009        WD         Normal     185000  \n",
       "\n",
       "[91 rows x 81 columns]"
      ]
     },
     "execution_count": 3,
     "metadata": {},
     "output_type": "execute_result"
    }
   ],
   "source": [
    "df_oldversion[df_oldversion[\"Alley\"].notna()]"
   ]
  },
  {
   "cell_type": "code",
   "execution_count": 4,
   "id": "473cd0f7-70c4-41d4-a4c4-ebd438e3133d",
   "metadata": {},
   "outputs": [],
   "source": [
    "# I erroneously one-hot encoded Alley column. Most rows NaN. It needs indic var, interaction term instead\n",
    "# To correct it I will delete the on-hot encoded columns, then add original column back on\n",
    "df.drop([\"Alley_Grvl\", \"Alley_Pave\"], axis=1)\n",
    "df[\"Alley\"] = df_oldversion[\"Alley\"]"
   ]
  },
  {
   "cell_type": "code",
   "execution_count": 5,
   "id": "d92e36e8-aa27-496d-a3f2-ecafc3ee8dd1",
   "metadata": {},
   "outputs": [
    {
     "data": {
      "text/plain": [
       "(Alley\n",
       " Grvl    50\n",
       " Pave    41\n",
       " Name: count, dtype: int64,\n",
       " '',\n",
       " Alley\n",
       " Grvl    50\n",
       " Pave    41\n",
       " Name: count, dtype: int64)"
      ]
     },
     "execution_count": 5,
     "metadata": {},
     "output_type": "execute_result"
    }
   ],
   "source": [
    "df_oldversion[\"Alley\"].value_counts(), \"\" , df[\"Alley\"].value_counts()"
   ]
  },
  {
   "cell_type": "markdown",
   "id": "b16789a2-7d17-4b53-9177-ce7e2b69933c",
   "metadata": {},
   "source": [
    " # &#8659; Re-encoded LotShape: one-hot  &#8659;"
   ]
  },
  {
   "cell_type": "code",
   "execution_count": 6,
   "id": "18f2bfc8-8684-406a-8fba-c74000af27fd",
   "metadata": {},
   "outputs": [
    {
     "data": {
      "text/plain": [
       "False"
      ]
     },
     "execution_count": 6,
     "metadata": {},
     "output_type": "execute_result"
    }
   ],
   "source": [
    "df = pd.get_dummies(df, columns=[\"LotShape\"])\n",
    "\"LotShape\" in df.columns"
   ]
  },
  {
   "cell_type": "code",
   "execution_count": 10,
   "id": "89095a0a-f998-425b-a301-78b84be9255b",
   "metadata": {},
   "outputs": [
    {
     "data": {
      "text/plain": [
       "Index(['LotShape_IR1', 'LotShape_IR2', 'LotShape_IR3', 'LotShape_Reg'], dtype='object')"
      ]
     },
     "execution_count": 10,
     "metadata": {},
     "output_type": "execute_result"
    }
   ],
   "source": [
    "df.columns[df.columns.str.startswith(\"LotShape\")]"
   ]
  },
  {
   "cell_type": "markdown",
   "id": "72eb061a-83c8-47b8-8d3b-c4bb94659560",
   "metadata": {},
   "source": [
    "# &#8659; Happy that LandContour is encoded right &#8659;\n",
    " ## (Could also check correlation / r-squared with target variable to see which encoding method would be best)"
   ]
  },
  {
   "cell_type": "code",
   "execution_count": 7,
   "id": "dba4b110-ddd6-448f-bd3b-45ac59ea158e",
   "metadata": {},
   "outputs": [
    {
     "data": {
      "text/plain": [
       "(Index(['LandContour_Bnk', 'LandContour_HLS', 'LandContour_Low',\n",
       "        'LandContour_Lvl'],\n",
       "       dtype='object'),\n",
       " '',\n",
       " LandContour\n",
       " Lvl    1311\n",
       " Bnk      63\n",
       " HLS      50\n",
       " Low      36\n",
       " Name: count, dtype: int64)"
      ]
     },
     "execution_count": 7,
     "metadata": {},
     "output_type": "execute_result"
    }
   ],
   "source": [
    "df.columns[df.columns.str.startswith(\"LandContour\")], \"\", df_oldversion[\"LandContour\"].value_counts()"
   ]
  },
  {
   "cell_type": "code",
   "execution_count": 8,
   "id": "cb887d89-c4d8-454f-bce0-2ef8d53e1d5f",
   "metadata": {},
   "outputs": [
    {
     "name": "stdout",
     "output_type": "stream",
     "text": [
      "With LandContour one-hot encoded, Lvl should be True in 1311 columns. In reality it is true in 1311 columns. \n",
      "\n",
      "Meanwhile, HLS should be True in 50 columns. In reality it is true in 50 columns.\n"
     ]
    }
   ],
   "source": [
    "statement = f\"\"\"With LandContour one-hot encoded, Lvl should be True in 1311 columns. In reality it is true in {len(df.loc[df[\"LandContour_Lvl\"] == True])} columns. \n",
    "\n",
    "Meanwhile, HLS should be True in 50 columns. In reality it is true in {len(df.loc[df[\"LandContour_HLS\"] == True])} columns.\"\"\"\n",
    "\n",
    "print(statement)\n"
   ]
  },
  {
   "cell_type": "markdown",
   "id": "75de8593-725c-4b05-a9da-7b9d0fcadb2a",
   "metadata": {},
   "source": [
    "# &#8659; One-hot Utilities &#8659;\n",
    "## Would be great to delete this feature since all datapoints but one belong to single category. But we don't know how it is in test set"
   ]
  },
  {
   "cell_type": "code",
   "execution_count": 19,
   "id": "1f5a3b0a-04af-45fe-b3cf-995c15b55cd4",
   "metadata": {},
   "outputs": [
    {
     "data": {
      "text/plain": [
       "Utilities\n",
       "AllPub    1459\n",
       "NoSeWa       1\n",
       "Name: count, dtype: int64"
      ]
     },
     "execution_count": 19,
     "metadata": {},
     "output_type": "execute_result"
    }
   ],
   "source": [
    "df[\"Utilities\"].value_counts()"
   ]
  },
  {
   "cell_type": "code",
   "execution_count": 14,
   "id": "5a6f41cd-3ca7-4b6c-bb75-22e71114f168",
   "metadata": {},
   "outputs": [],
   "source": [
    "Utilities_order = {\"AllPub\": 0, \"NoSewr\": 1, \"NoSeWa\": 2, \"ELO\": 3}"
   ]
  },
  {
   "cell_type": "code",
   "execution_count": 18,
   "id": "f5e96b88-0d29-4c8b-b563-a4679f6efa22",
   "metadata": {},
   "outputs": [
    {
     "data": {
      "text/plain": [
       "0       0\n",
       "1       0\n",
       "2       0\n",
       "3       0\n",
       "4       0\n",
       "       ..\n",
       "1455    0\n",
       "1456    0\n",
       "1457    0\n",
       "1458    0\n",
       "1459    0\n",
       "Name: Utilities_le, Length: 1460, dtype: int64"
      ]
     },
     "execution_count": 18,
     "metadata": {},
     "output_type": "execute_result"
    }
   ],
   "source": [
    "df[\"Utilities_le\"] = df[\"Utilities\"].map(Utilities_order)\n",
    "df[\"Utilities_le\"]"
   ]
  },
  {
   "cell_type": "markdown",
   "id": "24d51ca4-da78-4fee-be57-bd502aa939d3",
   "metadata": {},
   "source": [
    "# &#8659; Happy with encoding of LotConfig &#8659;"
   ]
  },
  {
   "cell_type": "code",
   "execution_count": 22,
   "id": "854969b6-9e61-4fc5-9218-dd168a28ce8a",
   "metadata": {},
   "outputs": [
    {
     "data": {
      "text/plain": [
       "LotConfig\n",
       "Inside     1052\n",
       "Corner      263\n",
       "CulDSac      94\n",
       "FR2          47\n",
       "FR3           4\n",
       "Name: count, dtype: int64"
      ]
     },
     "execution_count": 22,
     "metadata": {},
     "output_type": "execute_result"
    }
   ],
   "source": [
    "df_oldversion[\"LotConfig\"].value_counts()"
   ]
  },
  {
   "cell_type": "code",
   "execution_count": 23,
   "id": "c9baaca3-0adf-4653-bb2f-09833d796e9c",
   "metadata": {},
   "outputs": [
    {
     "data": {
      "text/plain": [
       "Index(['LotConfig_Corner', 'LotConfig_CulDSac', 'LotConfig_FR2',\n",
       "       'LotConfig_FR3', 'LotConfig_Inside'],\n",
       "      dtype='object')"
      ]
     },
     "execution_count": 23,
     "metadata": {},
     "output_type": "execute_result"
    }
   ],
   "source": [
    "df.columns[df.columns.str.startswith(\"LotConfig\")]"
   ]
  },
  {
   "cell_type": "markdown",
   "id": "59c06b8c-9d18-4be0-93d7-c58ddb114af8",
   "metadata": {},
   "source": [
    "# LandSlope: check correlation with target variable "
   ]
  },
  {
   "cell_type": "code",
   "execution_count": null,
   "id": "de2befe4-ef94-42c4-833d-cf1ec3d07dca",
   "metadata": {},
   "outputs": [],
   "source": []
  }
 ],
 "metadata": {
  "kernelspec": {
   "display_name": "Python 3 (ipykernel)",
   "language": "python",
   "name": "python3"
  },
  "language_info": {
   "codemirror_mode": {
    "name": "ipython",
    "version": 3
   },
   "file_extension": ".py",
   "mimetype": "text/x-python",
   "name": "python",
   "nbconvert_exporter": "python",
   "pygments_lexer": "ipython3",
   "version": "3.11.11"
  }
 },
 "nbformat": 4,
 "nbformat_minor": 5
}
